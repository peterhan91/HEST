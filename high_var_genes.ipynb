{
 "cells": [
  {
   "cell_type": "code",
   "execution_count": 1,
   "metadata": {},
   "outputs": [],
   "source": [
    "import os \n",
    "import json\n",
    "import pandas as pd\n",
    "import numpy as np\n",
    "import scanpy as sc\n",
    "from tqdm import tqdm\n",
    "from glob import glob\n",
    "\n",
    "from IPython.core.interactiveshell import InteractiveShell\n",
    "InteractiveShell.ast_node_interactivity = \"all\""
   ]
  },
  {
   "cell_type": "code",
   "execution_count": 45,
   "metadata": {},
   "outputs": [
    {
     "data": {
      "text/plain": [
       "10"
      ]
     },
     "execution_count": 45,
     "metadata": {},
     "output_type": "execute_result"
    }
   ],
   "source": [
    "mahmood_files = glob('/home/than/.cache/huggingface/hub/datasets--MahmoodLab--hest-bench/snapshots/78ed54aad495c764f8f48c1f53204cd4f9e7743d/*/var_50genes.json')\n",
    "len(mahmood_files)\n",
    "tasks = []\n",
    "genes = []\n",
    "for file in mahmood_files:\n",
    "    with open(file) as f:\n",
    "        data = json.load(f)\n",
    "    gene = data['genes']\n",
    "    task = file.split('/')[-2]\n",
    "    genes.append(gene)\n",
    "    tasks.append(task)\n",
    "\n",
    "gene_dict = dict(zip(tasks, genes))\n",
    "with open ('high_var_genes.json', 'w') as f:\n",
    "    json.dump(gene_dict, f, indent=4)"
   ]
  },
  {
   "cell_type": "code",
   "execution_count": null,
   "metadata": {},
   "outputs": [],
   "source": []
  },
  {
   "cell_type": "code",
   "execution_count": null,
   "metadata": {},
   "outputs": [],
   "source": []
  },
  {
   "cell_type": "code",
   "execution_count": null,
   "metadata": {},
   "outputs": [],
   "source": []
  },
  {
   "cell_type": "code",
   "execution_count": 3,
   "metadata": {},
   "outputs": [],
   "source": [
    "df = pd.read_csv(\"hf://datasets/MahmoodLab/hest/HEST_v1_0_2.csv\")\n",
    "# df.head()\n",
    "meta_df = df[df['id'].isin(['TENX95','TENX99','NCBI783','NCBI785'])]"
   ]
  },
  {
   "cell_type": "code",
   "execution_count": 35,
   "metadata": {},
   "outputs": [
    {
     "name": "stderr",
     "output_type": "stream",
     "text": [
      "100%|██████████| 4/4 [00:00<00:00, 42.29it/s]\n"
     ]
    }
   ],
   "source": [
    "adata_list = []\n",
    "for _, row in tqdm(meta_df.iterrows(), total=meta_df.shape[0]):\n",
    "    id = row['id']\n",
    "    adata = sc.read_h5ad(f\"/home/than/Datasets/HEST_data/st/{id}.h5ad\")\n",
    "    adata.var_names_make_unique()\n",
    "    adata_list.append(adata)"
   ]
  },
  {
   "cell_type": "code",
   "execution_count": 38,
   "metadata": {},
   "outputs": [
    {
     "name": "stderr",
     "output_type": "stream",
     "text": [
      "100%|██████████| 4/4 [00:00<00:00, 67.42it/s]\n",
      "100%|██████████| 4/4 [00:00<00:00, 237.73it/s]\n",
      "/home/than/anaconda3/envs/hest/lib/python3.9/site-packages/anndata/_core/anndata.py:1818: UserWarning: Observation names are not unique. To make them unique, call `.obs_names_make_unique`.\n",
      "  utils.warn_names_duplicates(\"obs\")\n",
      "/home/than/anaconda3/envs/hest/lib/python3.9/site-packages/anndata/_core/anndata.py:1818: UserWarning: Observation names are not unique. To make them unique, call `.obs_names_make_unique`.\n",
      "  utils.warn_names_duplicates(\"obs\")\n",
      "/home/than/anaconda3/envs/hest/lib/python3.9/site-packages/anndata/_core/anndata.py:1818: UserWarning: Observation names are not unique. To make them unique, call `.obs_names_make_unique`.\n",
      "  utils.warn_names_duplicates(\"obs\")\n"
     ]
    }
   ],
   "source": [
    "df_cancer = pd.read_csv('/home/than/DeepLearning/PORPOISE/datasets_csv/signatures.csv')\n",
    "cancer_genes = []\n",
    "for col in df_cancer.columns:\n",
    "    cancer_genes.extend(df_cancer[col].dropna().tolist())\n",
    "cancer_genes = list(set(cancer_genes))\n",
    "\n",
    "common_genes = None\n",
    "stacked_expressions = None\n",
    "min_cells_pct = 0.1\n",
    "k = 50\n",
    "\n",
    "# Get the common genes\n",
    "for adata in tqdm(adata_list):\n",
    "    my_adata = adata.copy()\n",
    "    if min_cells_pct:\n",
    "        sc.pp.filter_genes(my_adata, min_cells=np.ceil(min_cells_pct * len(my_adata.obs)))\n",
    "    curr_genes = np.array(my_adata.to_df().columns)\n",
    "    if common_genes is None:\n",
    "        common_genes = curr_genes\n",
    "    else:\n",
    "        common_genes = np.intersect1d(common_genes, curr_genes)\n",
    "common_genes = [gene for gene in common_genes if 'BLANK' not in gene and 'Control' not in gene]\n",
    "for adata in tqdm(adata_list):\n",
    "    if stacked_expressions is None:\n",
    "        stacked_expressions = adata.to_df()[common_genes]\n",
    "    else:\n",
    "        stacked_expressions = pd.concat([stacked_expressions, adata.to_df()[common_genes]])\n",
    "stacked_adata = sc.AnnData(stacked_expressions.astype(np.float32))\n",
    "sc.pp.filter_genes(stacked_adata, min_cells=0)\n",
    "sc.pp.log1p(stacked_adata)\n",
    "sc.pp.highly_variable_genes(stacked_adata, n_top_genes=k)\n",
    "top_k = stacked_adata.var_names[stacked_adata.var['highly_variable']][:k].tolist()"
   ]
  },
  {
   "cell_type": "code",
   "execution_count": 39,
   "metadata": {},
   "outputs": [
    {
     "data": {
      "text/plain": [
       "50"
      ]
     },
     "execution_count": 39,
     "metadata": {},
     "output_type": "execute_result"
    },
    {
     "data": {
      "text/plain": [
       "50"
      ]
     },
     "execution_count": 39,
     "metadata": {},
     "output_type": "execute_result"
    },
    {
     "data": {
      "text/plain": [
       "45"
      ]
     },
     "execution_count": 39,
     "metadata": {},
     "output_type": "execute_result"
    },
    {
     "data": {
      "text/plain": [
       "17"
      ]
     },
     "execution_count": 39,
     "metadata": {},
     "output_type": "execute_result"
    }
   ],
   "source": [
    "len(top_k)\n",
    "mahmood_genes = [\"ABCC11\", \"ADH1B\", \"ADIPOQ\", \"ANKRD30A\", \"AQP1\", \"AQP3\", \"CCR7\", \"CD3E\", \"CEACAM6\", \"CEACAM8\", \"CLIC6\", \"CYTIP\", \"DST\", \"ERBB2\", \"ESR1\", \"FASN\", \"GATA3\", \"IL2RG\", \"IL7R\", \"KIT\", \"KLF5\", \"KRT14\", \"KRT5\", \"KRT6B\", \"MMP1\", \"MMP12\", \"MS4A1\", \"MUC6\", \"MYBPC1\", \"MYH11\", \"MYLK\", \"OPRPN\", \"OXTR\", \"PIGR\", \"PTGDS\", \"PTN\", \"PTPRC\", \"SCD\", \"SCGB2A1\", \"SERHL2\", \"SERPINA3\", \"SFRP1\", \"SLAMF7\", \"TACSTD2\", \"TCL1A\", \"TENT5C\", \"TOP2A\", \"TPSAB1\", \"TRAC\", \"VWF\"]\n",
    "len(mahmood_genes)\n",
    "len(np.intersect1d(top_k, mahmood_genes))\n",
    "# top_k = mahmood_genes\n",
    "len(np.intersect1d(top_k, cancer_genes))"
   ]
  },
  {
   "cell_type": "code",
   "execution_count": 4,
   "metadata": {},
   "outputs": [
    {
     "name": "stderr",
     "output_type": "stream",
     "text": [
      "  1%|          | 6/1108 [00:00<00:22, 49.64it/s]/home/than/anaconda3/envs/hest/lib/python3.9/site-packages/anndata/_core/anndata.py:1820: UserWarning: Variable names are not unique. To make them unique, call `.var_names_make_unique`.\n",
      "  utils.warn_names_duplicates(\"var\")\n",
      "  1%|          | 12/1108 [00:00<00:33, 33.04it/s]/home/than/anaconda3/envs/hest/lib/python3.9/site-packages/anndata/_core/anndata.py:1820: UserWarning: Variable names are not unique. To make them unique, call `.var_names_make_unique`.\n",
      "  utils.warn_names_duplicates(\"var\")\n",
      "/home/than/anaconda3/envs/hest/lib/python3.9/site-packages/anndata/_core/anndata.py:1820: UserWarning: Variable names are not unique. To make them unique, call `.var_names_make_unique`.\n",
      "  utils.warn_names_duplicates(\"var\")\n",
      " 16%|█▌        | 175/1108 [00:22<01:29, 10.41it/s]"
     ]
    }
   ],
   "source": [
    "# breast_df = df[df['organ'] == 'Breast']\n",
    "top_k = [\n",
    "    \"CXCR2P1\", \"ICOS\", \"TIMD4\", \"CTLA4\", \"PAX5\", \"KLRC3\", \"FCRL3\", \"AIM2\", \"GBP5\", \"CCL4\"\n",
    "]\n",
    "breast_df = df\n",
    "adata_list = []\n",
    "ids = []\n",
    "for _, row in tqdm(breast_df.iterrows(), total=breast_df.shape[0]):\n",
    "    id = row['id']\n",
    "    adata = sc.read_h5ad(f\"/home/than/Datasets/HEST_data/st/{id}.h5ad\")\n",
    "    adata.var_names_make_unique()\n",
    "    adata_list.append(adata)\n",
    "    ids.append(id)\n",
    "# Get the common genes\n",
    "overlaps = []\n",
    "spots = []\n",
    "for adata in tqdm(adata_list):\n",
    "    my_adata = adata.copy()\n",
    "    if min_cells_pct:\n",
    "        sc.pp.filter_genes(my_adata, min_cells=np.ceil(min_cells_pct * len(my_adata.obs)))\n",
    "    curr_genes = np.array(my_adata.to_df().columns)\n",
    "    common_genes = np.intersect1d(top_k, curr_genes)\n",
    "    overlaps.append(len(common_genes))\n",
    "    spots.append(len(my_adata.obs))\n",
    "\n",
    "df = pd.DataFrame({'id': ids, 'overlap': overlaps, 'spots': spots})"
   ]
  },
  {
   "cell_type": "code",
   "execution_count": null,
   "metadata": {},
   "outputs": [],
   "source": []
  },
  {
   "cell_type": "code",
   "execution_count": 32,
   "metadata": {},
   "outputs": [
    {
     "data": {
      "text/plain": [
       "263818"
      ]
     },
     "execution_count": 32,
     "metadata": {},
     "output_type": "execute_result"
    },
    {
     "data": {
      "text/plain": [
       "84"
      ]
     },
     "execution_count": 32,
     "metadata": {},
     "output_type": "execute_result"
    }
   ],
   "source": [
    "df = df.sort_values('overlap', ascending=False)\n",
    "df = df[~ df['id'].isin(['TENX95','TENX99','NCBI783','NCBI785'])]\n",
    "df = df[df['overlap'] > 25]\n",
    "df['spots'].sum()\n",
    "len(df[df['overlap'] > 25])"
   ]
  },
  {
   "cell_type": "code",
   "execution_count": 7,
   "metadata": {},
   "outputs": [
    {
     "data": {
      "text/plain": [
       "0"
      ]
     },
     "execution_count": 7,
     "metadata": {},
     "output_type": "execute_result"
    },
    {
     "data": {
      "text/html": [
       "<div>\n",
       "<style scoped>\n",
       "    .dataframe tbody tr th:only-of-type {\n",
       "        vertical-align: middle;\n",
       "    }\n",
       "\n",
       "    .dataframe tbody tr th {\n",
       "        vertical-align: top;\n",
       "    }\n",
       "\n",
       "    .dataframe thead th {\n",
       "        text-align: right;\n",
       "    }\n",
       "</style>\n",
       "<table border=\"1\" class=\"dataframe\">\n",
       "  <thead>\n",
       "    <tr style=\"text-align: right;\">\n",
       "      <th></th>\n",
       "      <th>id</th>\n",
       "      <th>overlap</th>\n",
       "      <th>spots</th>\n",
       "    </tr>\n",
       "  </thead>\n",
       "  <tbody>\n",
       "  </tbody>\n",
       "</table>\n",
       "</div>"
      ],
      "text/plain": [
       "Empty DataFrame\n",
       "Columns: [id, overlap, spots]\n",
       "Index: []"
      ]
     },
     "execution_count": 7,
     "metadata": {},
     "output_type": "execute_result"
    }
   ],
   "source": [
    "df = df.sort_values('overlap', ascending=False).reset_index(drop=True)\n",
    "df = df[df['overlap'] > 50]\n",
    "df = df[~ df['id'].isin(['TENX95','TENX99','NCBI783','NCBI785'])]\n",
    "df['spots'].sum()\n",
    "df.head()\n",
    "# df.head(60)"
   ]
  },
  {
   "cell_type": "code",
   "execution_count": 134,
   "metadata": {},
   "outputs": [
    {
     "name": "stdout",
     "output_type": "stream",
     "text": [
      "(4992, 18085)\n"
     ]
    },
    {
     "name": "stderr",
     "output_type": "stream",
     "text": [
      "/home/than/.local/lib/python3.9/site-packages/magic/magic.py:425: UserWarning: Input matrix contains unexpressed genes. Please remove them prior to running MAGIC.\n",
      "  warnings.warn(\n"
     ]
    },
    {
     "name": "stdout",
     "output_type": "stream",
     "text": [
      "(4992, 98)\n"
     ]
    },
    {
     "name": "stderr",
     "output_type": "stream",
     "text": [
      "/home/than/.local/lib/python3.9/site-packages/magic/magic.py:484: UserWarning: genes ['ANGPT2' 'TPSAB1'] missing from input data\n",
      "  warnings.warn(\n"
     ]
    }
   ],
   "source": [
    "import scanpy.external as sce\n",
    "\n",
    "id = 'NCBI776'\n",
    "adata = sc.read_h5ad(f\"/home/than/Datasets/HEST_data/st/{id}.h5ad\")\n",
    "# sc.pp.normalize_per_cell(adata)\n",
    "sc.pp.log1p(adata)\n",
    "print(adata.X.shape)\n",
    "adata_new = sce.pp.magic(adata, name_list=top_k, knn=5)\n",
    "print(adata_new.X.shape)"
   ]
  },
  {
   "cell_type": "code",
   "execution_count": 129,
   "metadata": {},
   "outputs": [
    {
     "data": {
      "text/plain": [
       "90"
      ]
     },
     "execution_count": 129,
     "metadata": {},
     "output_type": "execute_result"
    }
   ],
   "source": [
    "curr_genes = np.array(adata_new.to_df().columns)\n",
    "len(np.intersect1d(top_k, curr_genes))"
   ]
  },
  {
   "cell_type": "code",
   "execution_count": null,
   "metadata": {},
   "outputs": [],
   "source": []
  },
  {
   "cell_type": "code",
   "execution_count": 22,
   "metadata": {},
   "outputs": [
    {
     "data": {
      "text/plain": [
       "379"
      ]
     },
     "execution_count": 22,
     "metadata": {},
     "output_type": "execute_result"
    }
   ],
   "source": [
    "len(common_genes)"
   ]
  },
  {
   "cell_type": "code",
   "execution_count": null,
   "metadata": {},
   "outputs": [],
   "source": [
    "for adata in tqdm(adata_list):\n",
    "\n",
    "    if stacked_expressions is None:\n",
    "        stacked_expressions = adata.to_df()[common_genes]\n",
    "    else:\n",
    "        stacked_expressions = pd.concat([stacked_expressions, adata.to_df()[common_genes]])"
   ]
  },
  {
   "cell_type": "code",
   "execution_count": null,
   "metadata": {},
   "outputs": [],
   "source": []
  },
  {
   "cell_type": "code",
   "execution_count": 2,
   "metadata": {},
   "outputs": [
    {
     "data": {
      "text/html": [
       "<div>\n",
       "<style scoped>\n",
       "    .dataframe tbody tr th:only-of-type {\n",
       "        vertical-align: middle;\n",
       "    }\n",
       "\n",
       "    .dataframe tbody tr th {\n",
       "        vertical-align: top;\n",
       "    }\n",
       "\n",
       "    .dataframe thead th {\n",
       "        text-align: right;\n",
       "    }\n",
       "</style>\n",
       "<table border=\"1\" class=\"dataframe\">\n",
       "  <thead>\n",
       "    <tr style=\"text-align: right;\">\n",
       "      <th></th>\n",
       "      <th>Unnamed: 0</th>\n",
       "    </tr>\n",
       "  </thead>\n",
       "  <tbody>\n",
       "    <tr>\n",
       "      <th>0</th>\n",
       "      <td>000x028</td>\n",
       "    </tr>\n",
       "    <tr>\n",
       "      <th>1</th>\n",
       "      <td>000x029</td>\n",
       "    </tr>\n",
       "    <tr>\n",
       "      <th>2</th>\n",
       "      <td>000x030</td>\n",
       "    </tr>\n",
       "    <tr>\n",
       "      <th>3</th>\n",
       "      <td>000x031</td>\n",
       "    </tr>\n",
       "    <tr>\n",
       "      <th>4</th>\n",
       "      <td>000x032</td>\n",
       "    </tr>\n",
       "  </tbody>\n",
       "</table>\n",
       "</div>"
      ],
      "text/plain": [
       "  Unnamed: 0\n",
       "0    000x028\n",
       "1    000x029\n",
       "2    000x030\n",
       "3    000x031\n",
       "4    000x032"
      ]
     },
     "execution_count": 2,
     "metadata": {},
     "output_type": "execute_result"
    }
   ],
   "source": [
    "df = pd.read_csv('stacked_expressions.csv')\n",
    "df.head()"
   ]
  },
  {
   "cell_type": "code",
   "execution_count": null,
   "metadata": {},
   "outputs": [],
   "source": []
  },
  {
   "cell_type": "code",
   "execution_count": null,
   "metadata": {},
   "outputs": [],
   "source": []
  },
  {
   "cell_type": "code",
   "execution_count": 6,
   "metadata": {},
   "outputs": [],
   "source": [
    "meta_df = pd.read_csv(\"hf://datasets/MahmoodLab/hest/HEST_v1_0_2.csv\")"
   ]
  },
  {
   "cell_type": "code",
   "execution_count": 4,
   "metadata": {},
   "outputs": [
    {
     "data": {
      "text/html": [
       "<div>\n",
       "<style scoped>\n",
       "    .dataframe tbody tr th:only-of-type {\n",
       "        vertical-align: middle;\n",
       "    }\n",
       "\n",
       "    .dataframe tbody tr th {\n",
       "        vertical-align: top;\n",
       "    }\n",
       "\n",
       "    .dataframe thead th {\n",
       "        text-align: right;\n",
       "    }\n",
       "</style>\n",
       "<table border=\"1\" class=\"dataframe\">\n",
       "  <thead>\n",
       "    <tr style=\"text-align: right;\">\n",
       "      <th></th>\n",
       "      <th>dataset_title</th>\n",
       "      <th>id</th>\n",
       "      <th>image_filename</th>\n",
       "      <th>organ</th>\n",
       "      <th>disease_state</th>\n",
       "      <th>oncotree_code</th>\n",
       "      <th>species</th>\n",
       "      <th>patient</th>\n",
       "      <th>st_technology</th>\n",
       "      <th>data_publication_date</th>\n",
       "      <th>...</th>\n",
       "      <th>nb_genes</th>\n",
       "      <th>treatment_comment</th>\n",
       "      <th>pixel_size_um_embedded</th>\n",
       "      <th>pixel_size_um_estimated</th>\n",
       "      <th>magnification</th>\n",
       "      <th>fullres_px_width</th>\n",
       "      <th>fullres_px_height</th>\n",
       "      <th>tissue</th>\n",
       "      <th>disease_comment</th>\n",
       "      <th>subseries</th>\n",
       "    </tr>\n",
       "  </thead>\n",
       "  <tbody>\n",
       "    <tr>\n",
       "      <th>0</th>\n",
       "      <td>FFPE Human Ovarian Cancer Data with Human Immu...</td>\n",
       "      <td>TENX142</td>\n",
       "      <td>TENX142.tif</td>\n",
       "      <td>Ovary</td>\n",
       "      <td>Cancer</td>\n",
       "      <td>HGSOC</td>\n",
       "      <td>Homo sapiens</td>\n",
       "      <td>NaN</td>\n",
       "      <td>Xenium</td>\n",
       "      <td>5/15/24</td>\n",
       "      <td>...</td>\n",
       "      <td>541</td>\n",
       "      <td>NaN</td>\n",
       "      <td>0.273769</td>\n",
       "      <td>0.273706</td>\n",
       "      <td>40x</td>\n",
       "      <td>21806</td>\n",
       "      <td>37330</td>\n",
       "      <td>Ovary</td>\n",
       "      <td>Ovary Serous Carcinoma; Stage II-A; Grade 3</td>\n",
       "      <td>NaN</td>\n",
       "    </tr>\n",
       "    <tr>\n",
       "      <th>1</th>\n",
       "      <td>FFPE Human Lung Cancer Data with Human Immuno-...</td>\n",
       "      <td>TENX141</td>\n",
       "      <td>TENX141.tif</td>\n",
       "      <td>Lung</td>\n",
       "      <td>Cancer</td>\n",
       "      <td>LUAD</td>\n",
       "      <td>Homo sapiens</td>\n",
       "      <td>patient 1</td>\n",
       "      <td>Xenium</td>\n",
       "      <td>5/15/24</td>\n",
       "      <td>...</td>\n",
       "      <td>541</td>\n",
       "      <td>NaN</td>\n",
       "      <td>0.273772</td>\n",
       "      <td>0.273643</td>\n",
       "      <td>40x</td>\n",
       "      <td>15513</td>\n",
       "      <td>39361</td>\n",
       "      <td>Lung</td>\n",
       "      <td>Lung NSCLC; Stage I-B; Grade 2</td>\n",
       "      <td>NaN</td>\n",
       "    </tr>\n",
       "    <tr>\n",
       "      <th>2</th>\n",
       "      <td>FFPE Human Pancreatic Ductal Adenocarcinoma Da...</td>\n",
       "      <td>TENX140</td>\n",
       "      <td>TENX140.tif</td>\n",
       "      <td>Pancreas</td>\n",
       "      <td>Cancer</td>\n",
       "      <td>PAAD</td>\n",
       "      <td>Homo sapiens</td>\n",
       "      <td>patient 3</td>\n",
       "      <td>Xenium</td>\n",
       "      <td>5/15/24</td>\n",
       "      <td>...</td>\n",
       "      <td>541</td>\n",
       "      <td>NaN</td>\n",
       "      <td>0.273766</td>\n",
       "      <td>0.273768</td>\n",
       "      <td>40x</td>\n",
       "      <td>19068</td>\n",
       "      <td>41014</td>\n",
       "      <td>Pancreas</td>\n",
       "      <td>Pancreatic Ductal Adenocarcinoma; Stage IIB; G...</td>\n",
       "      <td>NaN</td>\n",
       "    </tr>\n",
       "    <tr>\n",
       "      <th>3</th>\n",
       "      <td>FFPE Human Colorectal Cancer Data with Human I...</td>\n",
       "      <td>TENX139</td>\n",
       "      <td>TENX139.tif</td>\n",
       "      <td>Bowel</td>\n",
       "      <td>Cancer</td>\n",
       "      <td>COADREAD</td>\n",
       "      <td>Homo sapiens</td>\n",
       "      <td>NaN</td>\n",
       "      <td>Xenium</td>\n",
       "      <td>5/15/24</td>\n",
       "      <td>...</td>\n",
       "      <td>541</td>\n",
       "      <td>NaN</td>\n",
       "      <td>0.273773</td>\n",
       "      <td>0.273741</td>\n",
       "      <td>40x</td>\n",
       "      <td>21507</td>\n",
       "      <td>40815</td>\n",
       "      <td>Bowel</td>\n",
       "      <td>Colorectal Cancer Adenocarcinoma; Grade 2</td>\n",
       "      <td>NaN</td>\n",
       "    </tr>\n",
       "    <tr>\n",
       "      <th>4</th>\n",
       "      <td>FFPE Human Brain Cancer Data with Human Immuno...</td>\n",
       "      <td>TENX138</td>\n",
       "      <td>TENX138.tif</td>\n",
       "      <td>Brain</td>\n",
       "      <td>Cancer</td>\n",
       "      <td>GBM</td>\n",
       "      <td>Homo sapiens</td>\n",
       "      <td>NaN</td>\n",
       "      <td>Xenium</td>\n",
       "      <td>4/15/24</td>\n",
       "      <td>...</td>\n",
       "      <td>541</td>\n",
       "      <td>NaN</td>\n",
       "      <td>0.273775</td>\n",
       "      <td>0.273665</td>\n",
       "      <td>40x</td>\n",
       "      <td>38957</td>\n",
       "      <td>58584</td>\n",
       "      <td>Brain</td>\n",
       "      <td>NaN</td>\n",
       "      <td>NaN</td>\n",
       "    </tr>\n",
       "  </tbody>\n",
       "</table>\n",
       "<p>5 rows × 27 columns</p>\n",
       "</div>"
      ],
      "text/plain": [
       "                                       dataset_title       id image_filename  \\\n",
       "0  FFPE Human Ovarian Cancer Data with Human Immu...  TENX142    TENX142.tif   \n",
       "1  FFPE Human Lung Cancer Data with Human Immuno-...  TENX141    TENX141.tif   \n",
       "2  FFPE Human Pancreatic Ductal Adenocarcinoma Da...  TENX140    TENX140.tif   \n",
       "3  FFPE Human Colorectal Cancer Data with Human I...  TENX139    TENX139.tif   \n",
       "4  FFPE Human Brain Cancer Data with Human Immuno...  TENX138    TENX138.tif   \n",
       "\n",
       "      organ disease_state oncotree_code       species    patient  \\\n",
       "0     Ovary        Cancer         HGSOC  Homo sapiens        NaN   \n",
       "1      Lung        Cancer          LUAD  Homo sapiens  patient 1   \n",
       "2  Pancreas        Cancer          PAAD  Homo sapiens  patient 3   \n",
       "3     Bowel        Cancer      COADREAD  Homo sapiens        NaN   \n",
       "4     Brain        Cancer           GBM  Homo sapiens        NaN   \n",
       "\n",
       "  st_technology data_publication_date  ... nb_genes treatment_comment  \\\n",
       "0        Xenium               5/15/24  ...      541               NaN   \n",
       "1        Xenium               5/15/24  ...      541               NaN   \n",
       "2        Xenium               5/15/24  ...      541               NaN   \n",
       "3        Xenium               5/15/24  ...      541               NaN   \n",
       "4        Xenium               4/15/24  ...      541               NaN   \n",
       "\n",
       "  pixel_size_um_embedded  pixel_size_um_estimated  magnification  \\\n",
       "0               0.273769                 0.273706            40x   \n",
       "1               0.273772                 0.273643            40x   \n",
       "2               0.273766                 0.273768            40x   \n",
       "3               0.273773                 0.273741            40x   \n",
       "4               0.273775                 0.273665            40x   \n",
       "\n",
       "   fullres_px_width fullres_px_height    tissue  \\\n",
       "0             21806             37330     Ovary   \n",
       "1             15513             39361      Lung   \n",
       "2             19068             41014  Pancreas   \n",
       "3             21507             40815     Bowel   \n",
       "4             38957             58584     Brain   \n",
       "\n",
       "                                     disease_comment  subseries  \n",
       "0        Ovary Serous Carcinoma; Stage II-A; Grade 3        NaN  \n",
       "1                     Lung NSCLC; Stage I-B; Grade 2        NaN  \n",
       "2  Pancreatic Ductal Adenocarcinoma; Stage IIB; G...        NaN  \n",
       "3          Colorectal Cancer Adenocarcinoma; Grade 2        NaN  \n",
       "4                                                NaN        NaN  \n",
       "\n",
       "[5 rows x 27 columns]"
      ]
     },
     "execution_count": 4,
     "metadata": {},
     "output_type": "execute_result"
    }
   ],
   "source": [
    "genes = get_k_genes_from_df(meta_df, 1000, criteria='var')"
   ]
  }
 ],
 "metadata": {
  "kernelspec": {
   "display_name": "Python 3",
   "language": "python",
   "name": "python3"
  },
  "language_info": {
   "codemirror_mode": {
    "name": "ipython",
    "version": 3
   },
   "file_extension": ".py",
   "mimetype": "text/x-python",
   "name": "python",
   "nbconvert_exporter": "python",
   "pygments_lexer": "ipython3",
   "version": "3.9.19"
  }
 },
 "nbformat": 4,
 "nbformat_minor": 2
}
